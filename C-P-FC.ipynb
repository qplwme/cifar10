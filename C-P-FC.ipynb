{
 "cells": [
  {
   "cell_type": "code",
   "execution_count": 2,
   "id": "e41f01a6",
   "metadata": {},
   "outputs": [],
   "source": [
    "import numpy as np\n",
    "import torch\n",
    "import torch.nn as nn\n",
    "import torch.optim as optim\n",
    "import torchvision\n",
    "import torchvision.transforms as transforms"
   ]
  },
  {
   "cell_type": "code",
   "execution_count": 3,
   "id": "09be3c0a",
   "metadata": {},
   "outputs": [],
   "source": [
    "classes = ('plane', 'car', 'bird', 'cat', 'deer',\n",
    "           'dog', 'frog', 'horse', 'ship', 'truck')\n",
    "batch_size = 16\n",
    "epoch = 25"
   ]
  },
  {
   "cell_type": "code",
   "execution_count": 4,
   "id": "524d8f8e",
   "metadata": {},
   "outputs": [
    {
     "name": "stdout",
     "output_type": "stream",
     "text": [
      "Files already downloaded and verified\n",
      "Files already downloaded and verified\n"
     ]
    }
   ],
   "source": [
    "transform = transforms.Compose([\n",
    "    transforms.ToTensor(),\n",
    "    transforms.Normalize((0.5,0.5,0.5),(0.5,0.5,0.5))\n",
    "])\n",
    "\n",
    "train_set = torchvision.datasets.CIFAR10(root='./data',train=True,\n",
    "                                        download=True,transform=transform)\n",
    "train_loader = torch.utils.data.DataLoader(train_set, batch_size=batch_size,\n",
    "                                          shuffle=True, num_workers=2)\n",
    "test_set = torchvision.datasets.CIFAR10(root='./data',train=False,\n",
    "                                       download=True,transform=transform)\n",
    "test_loader = torch.utils.data.DataLoader(test_set, batch_size=batch_size,\n",
    "                                         shuffle=False,num_workers=2)\n"
   ]
  },
  {
   "cell_type": "code",
   "execution_count": 5,
   "id": "822c85bf",
   "metadata": {},
   "outputs": [],
   "source": [
    "class CNN(nn.Module):\n",
    "    def __init__(self):\n",
    "        super(CNN,self).__init__()\n",
    "        self.conv = nn.Conv2d(3,10,5)\n",
    "        self.pool = nn.MaxPool2d(2,2)\n",
    "        self.fc = nn.Linear(10*14*14, 10)\n",
    "        # self.dropout = nn.Dropout(0.2)\n",
    "\n",
    "    def forward(self,x):\n",
    "        x = self.pool(torch.nn.functional.relu(self.conv(x)))\n",
    "        \n",
    "        x = x.view(-1, 10*14*14)\n",
    "        # x = self.dropout(x)\n",
    "        x = torch.nn.functional.relu(self.fc(x))\n",
    "        # x = self.dropout(x)\n",
    "        return x"
   ]
  },
  {
   "cell_type": "code",
   "execution_count": 8,
   "id": "8461eeab",
   "metadata": {},
   "outputs": [
    {
     "name": "stdout",
     "output_type": "stream",
     "text": [
      "lr:0.001\t Epoch:1\t training loss:1.605243\n",
      "lr:0.001\t Epoch:2\t training loss:1.309145\n",
      "lr:0.001\t Epoch:3\t training loss:1.202522\n",
      "lr:0.001\t Epoch:4\t training loss:1.142802\n",
      "lr:0.001\t Epoch:5\t training loss:1.111117\n",
      "lr:0.001\t Epoch:6\t training loss:1.085991\n",
      "lr:0.001\t Epoch:7\t training loss:1.070140\n",
      "lr:0.001\t Epoch:8\t training loss:1.049443\n",
      "lr:0.001\t Epoch:9\t training loss:1.037443\n",
      "lr:0.001\t Epoch:10\t training loss:1.028708\n",
      "lr:0.001\t Epoch:11\t training loss:1.016233\n",
      "lr:0.001\t Epoch:12\t training loss:1.009480\n",
      "lr:0.001\t Epoch:13\t training loss:0.999249\n",
      "lr:0.001\t Epoch:14\t training loss:0.991132\n",
      "lr:0.001\t Epoch:15\t training loss:0.985612\n",
      "lr:0.001\t Epoch:16\t training loss:0.980019\n",
      "lr:0.001\t Epoch:17\t training loss:0.972679\n",
      "lr:0.001\t Epoch:18\t training loss:0.968177\n",
      "lr:0.001\t Epoch:19\t training loss:0.963288\n",
      "lr:0.001\t Epoch:20\t training loss:0.953977\n",
      "lr:0.001\t Epoch:21\t training loss:0.950943\n",
      "lr:0.001\t Epoch:22\t training loss:0.947395\n",
      "lr:0.001\t Epoch:23\t training loss:0.942043\n",
      "lr:0.001\t Epoch:24\t training loss:0.938633\n",
      "lr:0.001\t Epoch:25\t training loss:0.933397\n"
     ]
    }
   ],
   "source": [
    "cnn = CNN()\n",
    "loss_f = nn.CrossEntropyLoss()\n",
    "for lr in [0.001]:\n",
    "    optimizer = optim.SGD(cnn.parameters(),lr=lr,momentum=0.9)\n",
    "\n",
    "    for i in range(epoch):\n",
    "        train_loss = 0\n",
    "    \n",
    "        for data,target in train_loader:\n",
    "            optimizer.zero_grad()\n",
    "            output = cnn(data)\n",
    "            loss = loss_f(output,target)\n",
    "            loss.backward()\n",
    "            optimizer.step()\n",
    "            train_loss += loss.item()*data.size(0)\n",
    "    \n",
    "        train_loss = train_loss/len(train_loader.dataset)\n",
    "    \n",
    "        print('lr:{}\\t Epoch:{}\\t training loss:{:.6f}'.format(lr,i+1, train_loss))\n",
    "        "
   ]
  },
  {
   "cell_type": "code",
   "execution_count": 9,
   "id": "b74323c9",
   "metadata": {},
   "outputs": [
    {
     "name": "stdout",
     "output_type": "stream",
     "text": [
      "accuracy of plane :64 %\n",
      "accuracy of   car :77 %\n",
      "accuracy of  bird :49 %\n",
      "accuracy of   cat :47 %\n",
      "accuracy of  deer :55 %\n",
      "accuracy of   dog :47 %\n",
      "accuracy of  frog :68 %\n",
      "accuracy of horse :64 %\n",
      "accuracy of  ship :69 %\n",
      "accuracy of truck :74 %\n"
     ]
    },
    {
     "data": {
      "text/plain": [
       "0"
      ]
     },
     "execution_count": 9,
     "metadata": {},
     "output_type": "execute_result"
    }
   ],
   "source": [
    "def test_res():\n",
    "    correct = list(0. for j in range(10))\n",
    "    total = list(0. for j in range(10))\n",
    "    with torch.no_grad():\n",
    "        for images,labels in test_loader:\n",
    "            outputs = cnn(images)\n",
    "            _,predicted = torch.max(outputs.data, 1)\n",
    "            c = (predicted == labels).squeeze()\n",
    "            for j in range(4):\n",
    "                label = labels[j]\n",
    "                correct[label] += c[j].item()\n",
    "                total[label] += 1\n",
    "    for j in range(10):\n",
    "        print('accuracy of %5s :%2d %%'%(\n",
    "            classes[j], 100 * correct[j] / total[j]))\n",
    "    \n",
    "    return 0\n",
    "test_res()"
   ]
  },
  {
   "cell_type": "code",
   "execution_count": null,
   "id": "aa5a05c9",
   "metadata": {},
   "outputs": [],
   "source": [
    "def test_all():\n",
    "    correct = 0\n",
    "    total = 0\n",
    "    with torch.no_grad():\n",
    "        for images,labels in test_loader:\n",
    "            outputs = cnn(images)\n",
    "            _,predicted = torch.max(outputs.data, dim=1)\n",
    "            total += labels.size(0)\n",
    "            correct += (predicted==labels).sum().item()\n",
    "    print('test accuracy:%d %%'%( 100 * correct / total ))\n",
    "    return 100 * correct / total"
   ]
  },
  {
   "cell_type": "code",
   "execution_count": null,
   "id": "1d39325d",
   "metadata": {},
   "outputs": [],
   "source": []
  }
 ],
 "metadata": {
  "kernelspec": {
   "display_name": "Python 3 (ipykernel)",
   "language": "python",
   "name": "python3"
  },
  "language_info": {
   "codemirror_mode": {
    "name": "ipython",
    "version": 3
   },
   "file_extension": ".py",
   "mimetype": "text/x-python",
   "name": "python",
   "nbconvert_exporter": "python",
   "pygments_lexer": "ipython3",
   "version": "3.9.7"
  }
 },
 "nbformat": 4,
 "nbformat_minor": 5
}
